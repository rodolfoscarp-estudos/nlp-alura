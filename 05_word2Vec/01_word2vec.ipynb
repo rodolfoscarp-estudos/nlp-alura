{
  "cells": [
    {
      "cell_type": "code",
      "execution_count": 1,
      "metadata": {
        "colab": {
          "base_uri": "https://localhost:8080/"
        },
        "id": "XKcExrqOpbJ3",
        "outputId": "bc925f55-0a73-4c76-8657-c49e403b9744"
      },
      "outputs": [
        {
          "name": "stderr",
          "output_type": "stream",
          "text": [
            "[nltk_data] Downloading package punkt to /root/nltk_data...\n",
            "[nltk_data]   Unzipping tokenizers/punkt.zip.\n"
          ]
        },
        {
          "data": {
            "text/plain": [
              "True"
            ]
          },
          "execution_count": 1,
          "metadata": {},
          "output_type": "execute_result"
        }
      ],
      "source": [
        "import nltk\n",
        "nltk.download('punkt')"
      ]
    },
    {
      "cell_type": "code",
      "execution_count": 2,
      "metadata": {
        "id": "4zoEqN5oo1Nt"
      },
      "outputs": [],
      "source": [
        "import pandas as pd\n",
        "\n",
        "artigo_treino = pd.read_csv('/content/drive/MyDrive/curso_word2vec/treino.csv')\n",
        "artigo_teste = pd.read_csv('/content/drive/MyDrive/curso_word2vec/teste.csv')"
      ]
    },
    {
      "cell_type": "code",
      "execution_count": 3,
      "metadata": {
        "colab": {
          "base_uri": "https://localhost:8080/",
          "height": 206
        },
        "id": "sMYus6SPqPUz",
        "outputId": "f65b212f-1980-4f1f-f210-aff0a68bb8db"
      },
      "outputs": [
        {
          "data": {
            "text/html": [
              "\n",
              "  <div id=\"df-a1353607-041f-484a-b70e-54ed6bca7c26\">\n",
              "    <div class=\"colab-df-container\">\n",
              "      <div>\n",
              "<style scoped>\n",
              "    .dataframe tbody tr th:only-of-type {\n",
              "        vertical-align: middle;\n",
              "    }\n",
              "\n",
              "    .dataframe tbody tr th {\n",
              "        vertical-align: top;\n",
              "    }\n",
              "\n",
              "    .dataframe thead th {\n",
              "        text-align: right;\n",
              "    }\n",
              "</style>\n",
              "<table border=\"1\" class=\"dataframe\">\n",
              "  <thead>\n",
              "    <tr style=\"text-align: right;\">\n",
              "      <th></th>\n",
              "      <th>title</th>\n",
              "      <th>text</th>\n",
              "      <th>date</th>\n",
              "      <th>category</th>\n",
              "      <th>subcategory</th>\n",
              "      <th>link</th>\n",
              "    </tr>\n",
              "  </thead>\n",
              "  <tbody>\n",
              "    <tr>\n",
              "      <th>79865</th>\n",
              "      <td>Armador do Warriors quebra recorde de pontos e...</td>\n",
              "      <td>Klay Thompson, do Golden State Warriors, de 24...</td>\n",
              "      <td>2015-01-24</td>\n",
              "      <td>esporte</td>\n",
              "      <td>NaN</td>\n",
              "      <td>http://www1.folha.uol.com.br/esporte/2015/01/1...</td>\n",
              "    </tr>\n",
              "    <tr>\n",
              "      <th>55296</th>\n",
              "      <td>Casas flutuantes atraem turistas e pescadores ...</td>\n",
              "      <td>Parece miragem, mas a visão que se tem ao cheg...</td>\n",
              "      <td>2016-12-27</td>\n",
              "      <td>cotidiano</td>\n",
              "      <td>NaN</td>\n",
              "      <td>http://www1.folha.uol.com.br/cotidiano/2016/12...</td>\n",
              "    </tr>\n",
              "    <tr>\n",
              "      <th>60290</th>\n",
              "      <td>Sérgio Sá, compositor e músico cearense, morre...</td>\n",
              "      <td>O compositor e músico cearense Sérgio Sá morre...</td>\n",
              "      <td>2017-03-10</td>\n",
              "      <td>ilustrada</td>\n",
              "      <td>NaN</td>\n",
              "      <td>http://www1.folha.uol.com.br/ilustrada/2017/10...</td>\n",
              "    </tr>\n",
              "    <tr>\n",
              "      <th>34231</th>\n",
              "      <td>'Multitela': 'Roda Viva' discute para onde vai...</td>\n",
              "      <td>Nesta segunda (5), o programa sabatina Samuel ...</td>\n",
              "      <td>2017-05-06</td>\n",
              "      <td>ilustrada</td>\n",
              "      <td>NaN</td>\n",
              "      <td>http://www1.folha.uol.com.br/ilustrada/2017/06...</td>\n",
              "    </tr>\n",
              "    <tr>\n",
              "      <th>47108</th>\n",
              "      <td>Em mensagem de ano novo, papa pede 'paz e mise...</td>\n",
              "      <td>Em sua mensagem no primeiro dia de 2016, o pap...</td>\n",
              "      <td>2016-01-01</td>\n",
              "      <td>mundo</td>\n",
              "      <td>NaN</td>\n",
              "      <td>http://www1.folha.uol.com.br/mundo/2016/01/172...</td>\n",
              "    </tr>\n",
              "  </tbody>\n",
              "</table>\n",
              "</div>\n",
              "      <button class=\"colab-df-convert\" onclick=\"convertToInteractive('df-a1353607-041f-484a-b70e-54ed6bca7c26')\"\n",
              "              title=\"Convert this dataframe to an interactive table.\"\n",
              "              style=\"display:none;\">\n",
              "        \n",
              "  <svg xmlns=\"http://www.w3.org/2000/svg\" height=\"24px\"viewBox=\"0 0 24 24\"\n",
              "       width=\"24px\">\n",
              "    <path d=\"M0 0h24v24H0V0z\" fill=\"none\"/>\n",
              "    <path d=\"M18.56 5.44l.94 2.06.94-2.06 2.06-.94-2.06-.94-.94-2.06-.94 2.06-2.06.94zm-11 1L8.5 8.5l.94-2.06 2.06-.94-2.06-.94L8.5 2.5l-.94 2.06-2.06.94zm10 10l.94 2.06.94-2.06 2.06-.94-2.06-.94-.94-2.06-.94 2.06-2.06.94z\"/><path d=\"M17.41 7.96l-1.37-1.37c-.4-.4-.92-.59-1.43-.59-.52 0-1.04.2-1.43.59L10.3 9.45l-7.72 7.72c-.78.78-.78 2.05 0 2.83L4 21.41c.39.39.9.59 1.41.59.51 0 1.02-.2 1.41-.59l7.78-7.78 2.81-2.81c.8-.78.8-2.07 0-2.86zM5.41 20L4 18.59l7.72-7.72 1.47 1.35L5.41 20z\"/>\n",
              "  </svg>\n",
              "      </button>\n",
              "      \n",
              "  <style>\n",
              "    .colab-df-container {\n",
              "      display:flex;\n",
              "      flex-wrap:wrap;\n",
              "      gap: 12px;\n",
              "    }\n",
              "\n",
              "    .colab-df-convert {\n",
              "      background-color: #E8F0FE;\n",
              "      border: none;\n",
              "      border-radius: 50%;\n",
              "      cursor: pointer;\n",
              "      display: none;\n",
              "      fill: #1967D2;\n",
              "      height: 32px;\n",
              "      padding: 0 0 0 0;\n",
              "      width: 32px;\n",
              "    }\n",
              "\n",
              "    .colab-df-convert:hover {\n",
              "      background-color: #E2EBFA;\n",
              "      box-shadow: 0px 1px 2px rgba(60, 64, 67, 0.3), 0px 1px 3px 1px rgba(60, 64, 67, 0.15);\n",
              "      fill: #174EA6;\n",
              "    }\n",
              "\n",
              "    [theme=dark] .colab-df-convert {\n",
              "      background-color: #3B4455;\n",
              "      fill: #D2E3FC;\n",
              "    }\n",
              "\n",
              "    [theme=dark] .colab-df-convert:hover {\n",
              "      background-color: #434B5C;\n",
              "      box-shadow: 0px 1px 3px 1px rgba(0, 0, 0, 0.15);\n",
              "      filter: drop-shadow(0px 1px 2px rgba(0, 0, 0, 0.3));\n",
              "      fill: #FFFFFF;\n",
              "    }\n",
              "  </style>\n",
              "\n",
              "      <script>\n",
              "        const buttonEl =\n",
              "          document.querySelector('#df-a1353607-041f-484a-b70e-54ed6bca7c26 button.colab-df-convert');\n",
              "        buttonEl.style.display =\n",
              "          google.colab.kernel.accessAllowed ? 'block' : 'none';\n",
              "\n",
              "        async function convertToInteractive(key) {\n",
              "          const element = document.querySelector('#df-a1353607-041f-484a-b70e-54ed6bca7c26');\n",
              "          const dataTable =\n",
              "            await google.colab.kernel.invokeFunction('convertToInteractive',\n",
              "                                                     [key], {});\n",
              "          if (!dataTable) return;\n",
              "\n",
              "          const docLinkHtml = 'Like what you see? Visit the ' +\n",
              "            '<a target=\"_blank\" href=https://colab.research.google.com/notebooks/data_table.ipynb>data table notebook</a>'\n",
              "            + ' to learn more about interactive tables.';\n",
              "          element.innerHTML = '';\n",
              "          dataTable['output_type'] = 'display_data';\n",
              "          await google.colab.output.renderOutput(dataTable, element);\n",
              "          const docLink = document.createElement('div');\n",
              "          docLink.innerHTML = docLinkHtml;\n",
              "          element.appendChild(docLink);\n",
              "        }\n",
              "      </script>\n",
              "    </div>\n",
              "  </div>\n",
              "  "
            ],
            "text/plain": [
              "                                                   title  \\\n",
              "79865  Armador do Warriors quebra recorde de pontos e...   \n",
              "55296  Casas flutuantes atraem turistas e pescadores ...   \n",
              "60290  Sérgio Sá, compositor e músico cearense, morre...   \n",
              "34231  'Multitela': 'Roda Viva' discute para onde vai...   \n",
              "47108  Em mensagem de ano novo, papa pede 'paz e mise...   \n",
              "\n",
              "                                                    text        date  \\\n",
              "79865  Klay Thompson, do Golden State Warriors, de 24...  2015-01-24   \n",
              "55296  Parece miragem, mas a visão que se tem ao cheg...  2016-12-27   \n",
              "60290  O compositor e músico cearense Sérgio Sá morre...  2017-03-10   \n",
              "34231  Nesta segunda (5), o programa sabatina Samuel ...  2017-05-06   \n",
              "47108  Em sua mensagem no primeiro dia de 2016, o pap...  2016-01-01   \n",
              "\n",
              "        category subcategory  \\\n",
              "79865    esporte         NaN   \n",
              "55296  cotidiano         NaN   \n",
              "60290  ilustrada         NaN   \n",
              "34231  ilustrada         NaN   \n",
              "47108      mundo         NaN   \n",
              "\n",
              "                                                    link  \n",
              "79865  http://www1.folha.uol.com.br/esporte/2015/01/1...  \n",
              "55296  http://www1.folha.uol.com.br/cotidiano/2016/12...  \n",
              "60290  http://www1.folha.uol.com.br/ilustrada/2017/10...  \n",
              "34231  http://www1.folha.uol.com.br/ilustrada/2017/06...  \n",
              "47108  http://www1.folha.uol.com.br/mundo/2016/01/172...  "
            ]
          },
          "execution_count": 3,
          "metadata": {},
          "output_type": "execute_result"
        }
      ],
      "source": [
        "artigo_treino.sample(5)"
      ]
    },
    {
      "cell_type": "code",
      "execution_count": 4,
      "metadata": {
        "colab": {
          "base_uri": "https://localhost:8080/",
          "height": 206
        },
        "id": "pHz12XlRqdgb",
        "outputId": "60660b75-bb69-49a3-c3e1-0b7eafbd3a6a"
      },
      "outputs": [
        {
          "data": {
            "text/html": [
              "\n",
              "  <div id=\"df-51457e64-e753-4414-9299-9d5fd8099510\">\n",
              "    <div class=\"colab-df-container\">\n",
              "      <div>\n",
              "<style scoped>\n",
              "    .dataframe tbody tr th:only-of-type {\n",
              "        vertical-align: middle;\n",
              "    }\n",
              "\n",
              "    .dataframe tbody tr th {\n",
              "        vertical-align: top;\n",
              "    }\n",
              "\n",
              "    .dataframe thead th {\n",
              "        text-align: right;\n",
              "    }\n",
              "</style>\n",
              "<table border=\"1\" class=\"dataframe\">\n",
              "  <thead>\n",
              "    <tr style=\"text-align: right;\">\n",
              "      <th></th>\n",
              "      <th>title</th>\n",
              "      <th>text</th>\n",
              "      <th>date</th>\n",
              "      <th>category</th>\n",
              "      <th>subcategory</th>\n",
              "      <th>link</th>\n",
              "    </tr>\n",
              "  </thead>\n",
              "  <tbody>\n",
              "    <tr>\n",
              "      <th>7619</th>\n",
              "      <td>França não vê nada a perder ao tentar solução ...</td>\n",
              "      <td>Parece improvável, na melhor das hipóteses: or...</td>\n",
              "      <td>2017-01-16</td>\n",
              "      <td>mundo</td>\n",
              "      <td>NaN</td>\n",
              "      <td>http://www1.folha.uol.com.br/mundo/2017/01/185...</td>\n",
              "    </tr>\n",
              "    <tr>\n",
              "      <th>17464</th>\n",
              "      <td>COI admite tomar medida contra Nuzman, preso n...</td>\n",
              "      <td>Alertado da prisão nesta quinta-feira (5) de C...</td>\n",
              "      <td>2017-05-10</td>\n",
              "      <td>esporte</td>\n",
              "      <td>NaN</td>\n",
              "      <td>http://www1.folha.uol.com.br/esporte/2017/10/1...</td>\n",
              "    </tr>\n",
              "    <tr>\n",
              "      <th>10989</th>\n",
              "      <td>Palmeiras vence Red Bull em casa no último ami...</td>\n",
              "      <td>Em seu segundo jogo na temporada, o Palmeiras ...</td>\n",
              "      <td>2015-01-25</td>\n",
              "      <td>esporte</td>\n",
              "      <td>NaN</td>\n",
              "      <td>http://www1.folha.uol.com.br/esporte/2015/01/1...</td>\n",
              "    </tr>\n",
              "    <tr>\n",
              "      <th>1086</th>\n",
              "      <td>Ucrânia diz que não retirará armas até que ces...</td>\n",
              "      <td>As Forças Armadas da Ucrânia informaram nesta ...</td>\n",
              "      <td>2015-02-23</td>\n",
              "      <td>mundo</td>\n",
              "      <td>NaN</td>\n",
              "      <td>http://www1.folha.uol.com.br/mundo/2015/02/159...</td>\n",
              "    </tr>\n",
              "    <tr>\n",
              "      <th>14290</th>\n",
              "      <td>Ex-top 10 ensaia volta à elite e é atração no ...</td>\n",
              "      <td>Uma das atrações do Aberto do Rio não é favori...</td>\n",
              "      <td>2017-02-21</td>\n",
              "      <td>esporte</td>\n",
              "      <td>NaN</td>\n",
              "      <td>http://www1.folha.uol.com.br/esporte/2017/02/1...</td>\n",
              "    </tr>\n",
              "  </tbody>\n",
              "</table>\n",
              "</div>\n",
              "      <button class=\"colab-df-convert\" onclick=\"convertToInteractive('df-51457e64-e753-4414-9299-9d5fd8099510')\"\n",
              "              title=\"Convert this dataframe to an interactive table.\"\n",
              "              style=\"display:none;\">\n",
              "        \n",
              "  <svg xmlns=\"http://www.w3.org/2000/svg\" height=\"24px\"viewBox=\"0 0 24 24\"\n",
              "       width=\"24px\">\n",
              "    <path d=\"M0 0h24v24H0V0z\" fill=\"none\"/>\n",
              "    <path d=\"M18.56 5.44l.94 2.06.94-2.06 2.06-.94-2.06-.94-.94-2.06-.94 2.06-2.06.94zm-11 1L8.5 8.5l.94-2.06 2.06-.94-2.06-.94L8.5 2.5l-.94 2.06-2.06.94zm10 10l.94 2.06.94-2.06 2.06-.94-2.06-.94-.94-2.06-.94 2.06-2.06.94z\"/><path d=\"M17.41 7.96l-1.37-1.37c-.4-.4-.92-.59-1.43-.59-.52 0-1.04.2-1.43.59L10.3 9.45l-7.72 7.72c-.78.78-.78 2.05 0 2.83L4 21.41c.39.39.9.59 1.41.59.51 0 1.02-.2 1.41-.59l7.78-7.78 2.81-2.81c.8-.78.8-2.07 0-2.86zM5.41 20L4 18.59l7.72-7.72 1.47 1.35L5.41 20z\"/>\n",
              "  </svg>\n",
              "      </button>\n",
              "      \n",
              "  <style>\n",
              "    .colab-df-container {\n",
              "      display:flex;\n",
              "      flex-wrap:wrap;\n",
              "      gap: 12px;\n",
              "    }\n",
              "\n",
              "    .colab-df-convert {\n",
              "      background-color: #E8F0FE;\n",
              "      border: none;\n",
              "      border-radius: 50%;\n",
              "      cursor: pointer;\n",
              "      display: none;\n",
              "      fill: #1967D2;\n",
              "      height: 32px;\n",
              "      padding: 0 0 0 0;\n",
              "      width: 32px;\n",
              "    }\n",
              "\n",
              "    .colab-df-convert:hover {\n",
              "      background-color: #E2EBFA;\n",
              "      box-shadow: 0px 1px 2px rgba(60, 64, 67, 0.3), 0px 1px 3px 1px rgba(60, 64, 67, 0.15);\n",
              "      fill: #174EA6;\n",
              "    }\n",
              "\n",
              "    [theme=dark] .colab-df-convert {\n",
              "      background-color: #3B4455;\n",
              "      fill: #D2E3FC;\n",
              "    }\n",
              "\n",
              "    [theme=dark] .colab-df-convert:hover {\n",
              "      background-color: #434B5C;\n",
              "      box-shadow: 0px 1px 3px 1px rgba(0, 0, 0, 0.15);\n",
              "      filter: drop-shadow(0px 1px 2px rgba(0, 0, 0, 0.3));\n",
              "      fill: #FFFFFF;\n",
              "    }\n",
              "  </style>\n",
              "\n",
              "      <script>\n",
              "        const buttonEl =\n",
              "          document.querySelector('#df-51457e64-e753-4414-9299-9d5fd8099510 button.colab-df-convert');\n",
              "        buttonEl.style.display =\n",
              "          google.colab.kernel.accessAllowed ? 'block' : 'none';\n",
              "\n",
              "        async function convertToInteractive(key) {\n",
              "          const element = document.querySelector('#df-51457e64-e753-4414-9299-9d5fd8099510');\n",
              "          const dataTable =\n",
              "            await google.colab.kernel.invokeFunction('convertToInteractive',\n",
              "                                                     [key], {});\n",
              "          if (!dataTable) return;\n",
              "\n",
              "          const docLinkHtml = 'Like what you see? Visit the ' +\n",
              "            '<a target=\"_blank\" href=https://colab.research.google.com/notebooks/data_table.ipynb>data table notebook</a>'\n",
              "            + ' to learn more about interactive tables.';\n",
              "          element.innerHTML = '';\n",
              "          dataTable['output_type'] = 'display_data';\n",
              "          await google.colab.output.renderOutput(dataTable, element);\n",
              "          const docLink = document.createElement('div');\n",
              "          docLink.innerHTML = docLinkHtml;\n",
              "          element.appendChild(docLink);\n",
              "        }\n",
              "      </script>\n",
              "    </div>\n",
              "  </div>\n",
              "  "
            ],
            "text/plain": [
              "                                                   title  \\\n",
              "7619   França não vê nada a perder ao tentar solução ...   \n",
              "17464  COI admite tomar medida contra Nuzman, preso n...   \n",
              "10989  Palmeiras vence Red Bull em casa no último ami...   \n",
              "1086   Ucrânia diz que não retirará armas até que ces...   \n",
              "14290  Ex-top 10 ensaia volta à elite e é atração no ...   \n",
              "\n",
              "                                                    text        date category  \\\n",
              "7619   Parece improvável, na melhor das hipóteses: or...  2017-01-16    mundo   \n",
              "17464  Alertado da prisão nesta quinta-feira (5) de C...  2017-05-10  esporte   \n",
              "10989  Em seu segundo jogo na temporada, o Palmeiras ...  2015-01-25  esporte   \n",
              "1086   As Forças Armadas da Ucrânia informaram nesta ...  2015-02-23    mundo   \n",
              "14290  Uma das atrações do Aberto do Rio não é favori...  2017-02-21  esporte   \n",
              "\n",
              "      subcategory                                               link  \n",
              "7619          NaN  http://www1.folha.uol.com.br/mundo/2017/01/185...  \n",
              "17464         NaN  http://www1.folha.uol.com.br/esporte/2017/10/1...  \n",
              "10989         NaN  http://www1.folha.uol.com.br/esporte/2015/01/1...  \n",
              "1086          NaN  http://www1.folha.uol.com.br/mundo/2015/02/159...  \n",
              "14290         NaN  http://www1.folha.uol.com.br/esporte/2017/02/1...  "
            ]
          },
          "execution_count": 4,
          "metadata": {},
          "output_type": "execute_result"
        }
      ],
      "source": [
        "artigo_teste.sample(5)"
      ]
    },
    {
      "cell_type": "markdown",
      "metadata": {
        "id": "fL45p3BXtvMd"
      },
      "source": [
        "### One Hot Enconding\n",
        "|palavra_1|palavra_2|palavra_3|\n",
        "|---|---|---|\n",
        "|1|0|0|\n",
        "|0|1|0|\n",
        "|0|0|1|"
      ]
    },
    {
      "cell_type": "markdown",
      "metadata": {
        "id": "FCYLyW3iWMfm"
      },
      "source": [
        "### CBOW - Continuous Bag of Words\n",
        "\n",
        "A arquitetura do modelo CBOW tenta prever a palavra-alvo atual (a palavra central) com base nas palavras do contexto de origem (palavras circundantes)\n",
        "\n",
        "Link para download da base do nilc.\n",
        "http://143.107.183.175:22980/download.php?file=embeddings/word2vec/cbow_s300.zip"
      ]
    },
    {
      "cell_type": "markdown",
      "metadata": {
        "id": "LJ-YS08PXIHh"
      },
      "source": [
        "### Skip-Gram\n",
        "Skip-gram é usado para prever as palavras de contexto para uma determinada palavra de destino. É o inverso do algoritmo CBOW.\n",
        "\n",
        "Link para download da base do nilc.\n",
        "http://143.107.183.175:22980/download.php?file=embeddings/word2vec/skip_s300.zip"
      ]
    },
    {
      "cell_type": "code",
      "execution_count": 5,
      "metadata": {
        "id": "vQ9PLudyqhPs"
      },
      "outputs": [],
      "source": [
        "from sklearn.feature_extraction.text import CountVectorizer\n",
        "\n",
        "vetorizador = CountVectorizer()"
      ]
    },
    {
      "cell_type": "markdown",
      "metadata": {
        "id": "IX2W-JiWwGnM"
      },
      "source": [
        "### Word embedding\n",
        "\n",
        "Termo usado para a representação de palavras para análise de texto, normalmente na forma de um vetor de valor real que codifica o significado da palavra de modo que as palavras que estão mais próximas no vetor espera-se que o espaço seja semelhante em significado. "
      ]
    },
    {
      "cell_type": "markdown",
      "metadata": {
        "id": "hFwFSuht_eMd"
      },
      "source": [
        "### Word2Vec\n",
        "\n",
        "Word2Vec é um método estatístico para aprender eficientemente um Word Embedding independente, a partir de um corpus de texto."
      ]
    },
    {
      "cell_type": "code",
      "execution_count": 6,
      "metadata": {
        "id": "kb6OxvnYxvjh"
      },
      "outputs": [],
      "source": [
        "from gensim.models import KeyedVectors\n",
        "\n",
        "modelo = KeyedVectors.load_word2vec_format('/content/drive/MyDrive/curso_word2vec/cbow_s300.txt')"
      ]
    },
    {
      "cell_type": "code",
      "execution_count": 7,
      "metadata": {
        "colab": {
          "base_uri": "https://localhost:8080/"
        },
        "id": "2PYupv371hCe",
        "outputId": "cce01552-f23b-4f9c-9d2e-4b861b914171"
      },
      "outputs": [
        {
          "data": {
            "text/plain": [
              "[('gnu/linux', 0.6844302415847778),\n",
              " ('ubuntu', 0.6122487187385559),\n",
              " ('debian', 0.603197455406189),\n",
              " ('os/0', 0.5875368118286133),\n",
              " ('bsd', 0.5668904185295105),\n",
              " ('unix', 0.5637431144714355),\n",
              " ('ms-dos', 0.5565441250801086),\n",
              " ('gentoo', 0.5412006378173828),\n",
              " ('freebsd', 0.5288889408111572),\n",
              " ('desktop', 0.5241928100585938)]"
            ]
          },
          "execution_count": 7,
          "metadata": {},
          "output_type": "execute_result"
        }
      ],
      "source": [
        "modelo.most_similar(\"linux\")"
      ]
    },
    {
      "cell_type": "code",
      "execution_count": 8,
      "metadata": {
        "colab": {
          "base_uri": "https://localhost:8080/"
        },
        "id": "wrj4EV8Y6OyD",
        "outputId": "0d9d80cd-94d8-496c-b2a9-5dc180383f24"
      },
      "outputs": [
        {
          "data": {
            "text/plain": [
              "[('chile', 0.6781662702560425),\n",
              " ('peru', 0.6348033547401428),\n",
              " ('venezuela', 0.6273865103721619),\n",
              " ('equador', 0.6037014722824097),\n",
              " ('bolívia', 0.6017140746116638),\n",
              " ('haiti', 0.5993807315826416),\n",
              " ('méxico', 0.5962306261062622),\n",
              " ('paraguai', 0.5957703590393066),\n",
              " ('uruguai', 0.5903672575950623),\n",
              " ('japão', 0.5893509984016418)]"
            ]
          },
          "execution_count": 8,
          "metadata": {},
          "output_type": "execute_result"
        }
      ],
      "source": [
        "modelo.most_similar(positive=['brasil','argentina'])"
      ]
    },
    {
      "cell_type": "code",
      "execution_count": 9,
      "metadata": {
        "colab": {
          "base_uri": "https://localhost:8080/"
        },
        "id": "K1Uwsd0b7Vz0",
        "outputId": "232c0e48-87ae-4fdb-d927-232c183a25d6"
      },
      "outputs": [
        {
          "data": {
            "text/plain": [
              "[('estrelas', 0.5497429966926575),\n",
              " ('plêiades', 0.379197895526886),\n",
              " ('colinas', 0.3746805191040039),\n",
              " ('trovoadas', 0.373703271150589),\n",
              " ('sombras', 0.3734194040298462),\n",
              " ('pombas', 0.3726757764816284),\n",
              " ('corredoras', 0.3640727698802948),\n",
              " ('cigarras', 0.36065393686294556),\n",
              " ('galáxias', 0.35754913091659546),\n",
              " ('luas', 0.3575345277786255)]"
            ]
          },
          "execution_count": 9,
          "metadata": {},
          "output_type": "execute_result"
        }
      ],
      "source": [
        "modelo.most_similar(positive=['nuvens','estrela'], negative=['nuvem'])"
      ]
    },
    {
      "cell_type": "code",
      "execution_count": 10,
      "metadata": {
        "colab": {
          "base_uri": "https://localhost:8080/"
        },
        "id": "WX-NuRxa79wt",
        "outputId": "0dfd39b9-bd8b-4793-8f45-51b1bb5c22a8"
      },
      "outputs": [
        {
          "data": {
            "text/plain": [
              "[('enfermeira', 0.5567789673805237),\n",
              " ('esposa', 0.540894627571106),\n",
              " ('mãe', 0.5147395730018616),\n",
              " ('filha', 0.5052310824394226),\n",
              " ('namorada', 0.49705660343170166),\n",
              " ('filhinha', 0.49672722816467285),\n",
              " ('irmã', 0.4958304166793823),\n",
              " ('parenta', 0.4849744439125061),\n",
              " ('sobrinha', 0.4843062460422516),\n",
              " ('babá', 0.48186036944389343)]"
            ]
          },
          "execution_count": 10,
          "metadata": {},
          "output_type": "execute_result"
        }
      ],
      "source": [
        "modelo.most_similar(positive=['medico','mulher'], negative=['homem'])"
      ]
    },
    {
      "cell_type": "markdown",
      "metadata": {
        "id": "UbW7Lb4B-3pf"
      },
      "source": [
        "### Vetorização de Texto"
      ]
    },
    {
      "cell_type": "code",
      "execution_count": 11,
      "metadata": {
        "id": "6uNCKto0-9l2"
      },
      "outputs": [],
      "source": [
        "from nltk import word_tokenize\n",
        "from string import punctuation\n",
        "\n",
        "def tokenizador(texto):\n",
        "  texto = texto.lower()\n",
        "  lista_alfanumerico = []\n",
        "\n",
        "  for token in word_tokenize(texto):\n",
        "    if token in punctuation:\n",
        "      continue\n",
        "\n",
        "    lista_alfanumerico.append(token)\n",
        "  \n",
        "  return lista_alfanumerico"
      ]
    },
    {
      "cell_type": "code",
      "execution_count": 12,
      "metadata": {
        "colab": {
          "base_uri": "https://localhost:8080/"
        },
        "id": "Aa0Qk_4EHfiY",
        "outputId": "d257fe05-64ff-4e13-d7c4-73db59ce31aa"
      },
      "outputs": [
        {
          "data": {
            "text/plain": [
              "['texto', 'exemplo', '1235']"
            ]
          },
          "execution_count": 12,
          "metadata": {},
          "output_type": "execute_result"
        }
      ],
      "source": [
        "tokenizador(\"Texto exemplo 1235\")"
      ]
    },
    {
      "cell_type": "code",
      "execution_count": 13,
      "metadata": {
        "id": "QU2U006JIhuH"
      },
      "outputs": [],
      "source": [
        "import numpy as np\n",
        "\n",
        "def combinacao_de_vetores_por_soma(palavras_numeros):\n",
        "  vetor_resultante = np.zeros(300)\n",
        "  for pn in palavras_numeros:\n",
        "    vetor_resultante += modelo.get_vector(pn)\n",
        "\n",
        "  return vetor_resultante"
      ]
    },
    {
      "cell_type": "code",
      "execution_count": 15,
      "metadata": {
        "colab": {
          "base_uri": "https://localhost:8080/",
          "height": 364
        },
        "id": "XxVAs4DBXpS1",
        "outputId": "07ac9529-4a29-4e53-d6d0-8a3932681438"
      },
      "outputs": [
        {
          "ename": "KeyError",
          "evalue": "ignored",
          "output_type": "error",
          "traceback": [
            "\u001b[0;31m---------------------------------------------------------------------------\u001b[0m",
            "\u001b[0;31mKeyError\u001b[0m                                  Traceback (most recent call last)",
            "\u001b[0;32m<ipython-input-15-7f727e06bde8>\u001b[0m in \u001b[0;36m<module>\u001b[0;34m\u001b[0m\n\u001b[1;32m      1\u001b[0m \u001b[0mpalavras_numeros\u001b[0m \u001b[0;34m=\u001b[0m \u001b[0mtokenizador\u001b[0m\u001b[0;34m(\u001b[0m\u001b[0;34m\"Texto exemplox\"\u001b[0m\u001b[0;34m)\u001b[0m\u001b[0;34m\u001b[0m\u001b[0;34m\u001b[0m\u001b[0m\n\u001b[0;32m----> 2\u001b[0;31m \u001b[0mvetor_texto\u001b[0m \u001b[0;34m=\u001b[0m \u001b[0mcombinacao_de_vetores_por_soma\u001b[0m\u001b[0;34m(\u001b[0m\u001b[0mpalavras_numeros\u001b[0m\u001b[0;34m)\u001b[0m\u001b[0;34m\u001b[0m\u001b[0;34m\u001b[0m\u001b[0m\n\u001b[0m\u001b[1;32m      3\u001b[0m \u001b[0mprint\u001b[0m\u001b[0;34m(\u001b[0m\u001b[0mlen\u001b[0m\u001b[0;34m(\u001b[0m\u001b[0mvetor_texto\u001b[0m\u001b[0;34m)\u001b[0m\u001b[0;34m)\u001b[0m\u001b[0;34m\u001b[0m\u001b[0;34m\u001b[0m\u001b[0m\n\u001b[1;32m      4\u001b[0m \u001b[0mprint\u001b[0m\u001b[0;34m(\u001b[0m\u001b[0mvetor_texto\u001b[0m\u001b[0;34m)\u001b[0m\u001b[0;34m\u001b[0m\u001b[0;34m\u001b[0m\u001b[0m\n",
            "\u001b[0;32m<ipython-input-13-f48fe1742861>\u001b[0m in \u001b[0;36mcombinacao_de_vetores_por_soma\u001b[0;34m(palavras_numeros)\u001b[0m\n\u001b[1;32m      4\u001b[0m   \u001b[0mvetor_resultante\u001b[0m \u001b[0;34m=\u001b[0m \u001b[0mnp\u001b[0m\u001b[0;34m.\u001b[0m\u001b[0mzeros\u001b[0m\u001b[0;34m(\u001b[0m\u001b[0;36m300\u001b[0m\u001b[0;34m)\u001b[0m\u001b[0;34m\u001b[0m\u001b[0;34m\u001b[0m\u001b[0m\n\u001b[1;32m      5\u001b[0m   \u001b[0;32mfor\u001b[0m \u001b[0mpn\u001b[0m \u001b[0;32min\u001b[0m \u001b[0mpalavras_numeros\u001b[0m\u001b[0;34m:\u001b[0m\u001b[0;34m\u001b[0m\u001b[0;34m\u001b[0m\u001b[0m\n\u001b[0;32m----> 6\u001b[0;31m     \u001b[0mvetor_resultante\u001b[0m \u001b[0;34m+=\u001b[0m \u001b[0mmodelo\u001b[0m\u001b[0;34m.\u001b[0m\u001b[0mget_vector\u001b[0m\u001b[0;34m(\u001b[0m\u001b[0mpn\u001b[0m\u001b[0;34m)\u001b[0m\u001b[0;34m\u001b[0m\u001b[0;34m\u001b[0m\u001b[0m\n\u001b[0m\u001b[1;32m      7\u001b[0m \u001b[0;34m\u001b[0m\u001b[0m\n\u001b[1;32m      8\u001b[0m   \u001b[0;32mreturn\u001b[0m \u001b[0mvetor_resultante\u001b[0m\u001b[0;34m\u001b[0m\u001b[0;34m\u001b[0m\u001b[0m\n",
            "\u001b[0;32m/usr/local/lib/python3.8/dist-packages/gensim/models/keyedvectors.py\u001b[0m in \u001b[0;36mget_vector\u001b[0;34m(self, word)\u001b[0m\n\u001b[1;32m    453\u001b[0m \u001b[0;34m\u001b[0m\u001b[0m\n\u001b[1;32m    454\u001b[0m     \u001b[0;32mdef\u001b[0m \u001b[0mget_vector\u001b[0m\u001b[0;34m(\u001b[0m\u001b[0mself\u001b[0m\u001b[0;34m,\u001b[0m \u001b[0mword\u001b[0m\u001b[0;34m)\u001b[0m\u001b[0;34m:\u001b[0m\u001b[0;34m\u001b[0m\u001b[0;34m\u001b[0m\u001b[0m\n\u001b[0;32m--> 455\u001b[0;31m         \u001b[0;32mreturn\u001b[0m \u001b[0mself\u001b[0m\u001b[0;34m.\u001b[0m\u001b[0mword_vec\u001b[0m\u001b[0;34m(\u001b[0m\u001b[0mword\u001b[0m\u001b[0;34m)\u001b[0m\u001b[0;34m\u001b[0m\u001b[0;34m\u001b[0m\u001b[0m\n\u001b[0m\u001b[1;32m    456\u001b[0m \u001b[0;34m\u001b[0m\u001b[0m\n\u001b[1;32m    457\u001b[0m     \u001b[0;32mdef\u001b[0m \u001b[0mwords_closer_than\u001b[0m\u001b[0;34m(\u001b[0m\u001b[0mself\u001b[0m\u001b[0;34m,\u001b[0m \u001b[0mw1\u001b[0m\u001b[0;34m,\u001b[0m \u001b[0mw2\u001b[0m\u001b[0;34m)\u001b[0m\u001b[0;34m:\u001b[0m\u001b[0;34m\u001b[0m\u001b[0;34m\u001b[0m\u001b[0m\n",
            "\u001b[0;32m/usr/local/lib/python3.8/dist-packages/gensim/models/keyedvectors.py\u001b[0m in \u001b[0;36mword_vec\u001b[0;34m(self, word, use_norm)\u001b[0m\n\u001b[1;32m    450\u001b[0m             \u001b[0;32mreturn\u001b[0m \u001b[0mresult\u001b[0m\u001b[0;34m\u001b[0m\u001b[0;34m\u001b[0m\u001b[0m\n\u001b[1;32m    451\u001b[0m         \u001b[0;32melse\u001b[0m\u001b[0;34m:\u001b[0m\u001b[0;34m\u001b[0m\u001b[0;34m\u001b[0m\u001b[0m\n\u001b[0;32m--> 452\u001b[0;31m             \u001b[0;32mraise\u001b[0m \u001b[0mKeyError\u001b[0m\u001b[0;34m(\u001b[0m\u001b[0;34m\"word '%s' not in vocabulary\"\u001b[0m \u001b[0;34m%\u001b[0m \u001b[0mword\u001b[0m\u001b[0;34m)\u001b[0m\u001b[0;34m\u001b[0m\u001b[0;34m\u001b[0m\u001b[0m\n\u001b[0m\u001b[1;32m    453\u001b[0m \u001b[0;34m\u001b[0m\u001b[0m\n\u001b[1;32m    454\u001b[0m     \u001b[0;32mdef\u001b[0m \u001b[0mget_vector\u001b[0m\u001b[0;34m(\u001b[0m\u001b[0mself\u001b[0m\u001b[0;34m,\u001b[0m \u001b[0mword\u001b[0m\u001b[0;34m)\u001b[0m\u001b[0;34m:\u001b[0m\u001b[0;34m\u001b[0m\u001b[0;34m\u001b[0m\u001b[0m\n",
            "\u001b[0;31mKeyError\u001b[0m: \"word 'exemplox' not in vocabulary\""
          ]
        }
      ],
      "source": [
        "palavras_numeros = tokenizador(\"Texto exemplox\")\n",
        "vetor_texto = combinacao_de_vetores_por_soma(palavras_numeros)\n",
        "print(len(vetor_texto))\n",
        "print(vetor_texto)"
      ]
    },
    {
      "cell_type": "markdown",
      "metadata": {
        "id": "v03WHmnnn7VX"
      },
      "source": [
        "### Tratando Palavras raras e numeros\n",
        "\n",
        "Por padrão o gensim substitui as palavras inexistentes ou raras com UNKNOWN e\n",
        "os números ele substitui por zeros"
      ]
    },
    {
      "cell_type": "code",
      "execution_count": 19,
      "metadata": {
        "id": "lBvYmHhcoe5T"
      },
      "outputs": [],
      "source": [
        "def combinacao_de_vetores_por_soma_melhorada(palavras_numeros):\n",
        "  vetor_resultante = np.zeros(300)\n",
        "  for pn in palavras_numeros:\n",
        "    try:\n",
        "      vetor_resultante += modelo.get_vector(pn)\n",
        "    except KeyError:\n",
        "      # Trata o s valores numericos\n",
        "      if pn.isnumeric():\n",
        "        pn = \"0\" * len(pn)\n",
        "        vetor_resultante += modelo.get_vector(pn)\n",
        "      # Palavras e não encontradas\n",
        "      else:\n",
        "        vetor_resultante += modelo.get_vector('unknown')\n",
        "\n",
        "  return vetor_resultante"
      ]
    },
    {
      "cell_type": "code",
      "execution_count": 21,
      "metadata": {
        "colab": {
          "base_uri": "https://localhost:8080/"
        },
        "id": "BfdxU9eMyGEs",
        "outputId": "25879be7-9f19-480e-caee-37606a264b54"
      },
      "outputs": [
        {
          "name": "stdout",
          "output_type": "stream",
          "text": [
            "300\n",
            "[ 0.40490201  0.161033   -0.12835     0.46395799 -0.037907    0.09791\n",
            "  0.060622    0.02506699 -0.145315   -0.120187   -0.014503   -0.039782\n",
            " -0.55343999  0.33949101  0.047472    0.23261001 -0.79150799  0.00762101\n",
            " -0.430413   -0.16221099]\n"
          ]
        }
      ],
      "source": [
        "palavras_numeros = tokenizador(\"Texto exemplox\")\n",
        "vetor_texto = combinacao_de_vetores_por_soma_melhorada(palavras_numeros)\n",
        "print(len(vetor_texto))\n",
        "print(vetor_texto[:20])"
      ]
    },
    {
      "cell_type": "code",
      "execution_count": 60,
      "metadata": {
        "id": "riFzRsBL1Nfz"
      },
      "outputs": [],
      "source": [
        "def matriz_vetores(textos):\n",
        "  x = len(textos)\n",
        "  y = 300\n",
        "\n",
        "  matriz = np.zeros((x,y))\n",
        "\n",
        "  for i in range(x):\n",
        "    palavras_numeros = tokenizador(textos.iloc[i])\n",
        "    matriz[i] = combinacao_de_vetores_por_soma(palavras_numeros)\n",
        "\n",
        "  return matriz"
      ]
    },
    {
      "cell_type": "code",
      "execution_count": 28,
      "metadata": {
        "colab": {
          "base_uri": "https://localhost:8080/"
        },
        "id": "s31h6fzW2I-8",
        "outputId": "2e099133-e676-458f-b4d5-573a8da757af"
      },
      "outputs": [
        {
          "name": "stdout",
          "output_type": "stream",
          "text": [
            "(90000, 300)\n",
            "(20513, 300)\n"
          ]
        }
      ],
      "source": [
        "matriz_vetores_treino = matriz_vetores(artigo_treino.title)\n",
        "matriz_vetores_teste = matriz_vetores(artigo_teste.title)\n",
        "\n",
        "print(matriz_vetores_treino.shape)\n",
        "print(matriz_vetores_teste.shape)"
      ]
    },
    {
      "cell_type": "markdown",
      "metadata": {
        "id": "L8YeFONR95YQ"
      },
      "source": [
        "### Modelo de Regressão Logistica"
      ]
    },
    {
      "cell_type": "code",
      "execution_count": 30,
      "metadata": {
        "colab": {
          "base_uri": "https://localhost:8080/"
        },
        "id": "_ZeMLJkE99b2",
        "outputId": "18c9a0da-a289-4d0a-e01b-42436e66cb0b"
      },
      "outputs": [
        {
          "data": {
            "text/plain": [
              "LogisticRegression(max_iter=200)"
            ]
          },
          "execution_count": 30,
          "metadata": {},
          "output_type": "execute_result"
        }
      ],
      "source": [
        "from sklearn.linear_model import LogisticRegression\n",
        "\n",
        "LR = LogisticRegression(max_iter=200)\n",
        "\n",
        "LR.fit(matriz_vetores_treino, artigo_treino.category)"
      ]
    },
    {
      "cell_type": "code",
      "execution_count": 32,
      "metadata": {
        "colab": {
          "base_uri": "https://localhost:8080/"
        },
        "id": "F3wIqL9T_K3I",
        "outputId": "6409daa1-f110-4a3f-908e-a6e4e8986d16"
      },
      "outputs": [
        {
          "data": {
            "text/plain": [
              "0.7957880368546775"
            ]
          },
          "execution_count": 32,
          "metadata": {},
          "output_type": "execute_result"
        }
      ],
      "source": [
        "LR.score(matriz_vetores_teste, artigo_teste.category)"
      ]
    },
    {
      "cell_type": "code",
      "execution_count": 34,
      "metadata": {
        "colab": {
          "base_uri": "https://localhost:8080/"
        },
        "id": "HFXt7r1hAdmT",
        "outputId": "213837a9-5b47-4b38-c689-ae1685740aa0"
      },
      "outputs": [
        {
          "data": {
            "text/plain": [
              "array(['colunas', 'esporte', 'mercado', 'cotidiano', 'mundo', 'ilustrada'],\n",
              "      dtype=object)"
            ]
          },
          "execution_count": 34,
          "metadata": {},
          "output_type": "execute_result"
        }
      ],
      "source": [
        "artigo_teste.category.unique()"
      ]
    },
    {
      "cell_type": "code",
      "execution_count": 37,
      "metadata": {
        "id": "SkOyoHiaAim-"
      },
      "outputs": [],
      "source": [
        "predicoes = LR.predict(matriz_vetores_teste)"
      ]
    },
    {
      "cell_type": "code",
      "execution_count": 38,
      "metadata": {
        "id": "Anywo0s8Ay_6"
      },
      "outputs": [],
      "source": [
        "from sklearn.metrics import classification_report\n",
        "\n",
        "CR = classification_report(artigo_teste.category, predicoes)"
      ]
    },
    {
      "cell_type": "code",
      "execution_count": 40,
      "metadata": {
        "colab": {
          "base_uri": "https://localhost:8080/"
        },
        "id": "aX3NJwh6BLld",
        "outputId": "7f634269-7f62-4a7b-95ad-ecdc7e8be65b"
      },
      "outputs": [
        {
          "name": "stdout",
          "output_type": "stream",
          "text": [
            "              precision    recall  f1-score   support\n",
            "\n",
            "     colunas       0.86      0.71      0.78      6103\n",
            "   cotidiano       0.61      0.79      0.69      1698\n",
            "     esporte       0.92      0.88      0.90      4663\n",
            "   ilustrada       0.13      0.88      0.23       131\n",
            "     mercado       0.84      0.79      0.81      5867\n",
            "       mundo       0.74      0.86      0.79      2051\n",
            "\n",
            "    accuracy                           0.80     20513\n",
            "   macro avg       0.68      0.82      0.70     20513\n",
            "weighted avg       0.83      0.80      0.81     20513\n",
            "\n"
          ]
        }
      ],
      "source": [
        "print(CR)"
      ]
    },
    {
      "cell_type": "markdown",
      "metadata": {
        "id": "oX6Lb_H-DY0z"
      },
      "source": [
        "### Conceitos\n",
        "\n",
        "  - Média Hamónica:\n",
        "      https://www.youtube.com/watch?v=bamPhPrZk6w\n",
        "\n",
        "  - Precisão/Revogação\n",
        "      https://pt.wikiversity.org/wiki/Observat%C3%B3rio_de_dados/Precis%C3%A3o_e_revoga%C3%A7%C3%A3o\n",
        "  "
      ]
    },
    {
      "cell_type": "markdown",
      "metadata": {
        "id": "pTyztnDPFVn8"
      },
      "source": [
        "### DummyClassifier"
      ]
    },
    {
      "cell_type": "code",
      "execution_count": 49,
      "metadata": {
        "id": "F4vgZP3tDiYO"
      },
      "outputs": [],
      "source": [
        "from sklearn.dummy import DummyClassifier\n",
        "\n",
        "DC = DummyClassifier(strategy=\"uniform\")\n",
        "DC.fit(matriz_vetores_treino, artigo_treino.category)\n",
        "\n",
        "predicoes_dc = DC.predict(matriz_vetores_teste)"
      ]
    },
    {
      "cell_type": "code",
      "execution_count": 50,
      "metadata": {
        "id": "40zDc7l9FbvR"
      },
      "outputs": [],
      "source": [
        "CRDC = classification_report(artigo_teste.category, predicoes_dc)"
      ]
    },
    {
      "cell_type": "code",
      "execution_count": 51,
      "metadata": {
        "colab": {
          "base_uri": "https://localhost:8080/"
        },
        "id": "lSzNEOC-FoTk",
        "outputId": "efb68307-8830-4e60-d563-f9cde5b65da5"
      },
      "outputs": [
        {
          "name": "stdout",
          "output_type": "stream",
          "text": [
            "              precision    recall  f1-score   support\n",
            "\n",
            "     colunas       0.30      0.17      0.22      6103\n",
            "   cotidiano       0.08      0.15      0.10      1698\n",
            "     esporte       0.23      0.17      0.19      4663\n",
            "   ilustrada       0.01      0.15      0.01       131\n",
            "     mercado       0.29      0.17      0.21      5867\n",
            "       mundo       0.11      0.18      0.13      2051\n",
            "\n",
            "    accuracy                           0.17     20513\n",
            "   macro avg       0.17      0.17      0.15     20513\n",
            "weighted avg       0.24      0.17      0.19     20513\n",
            "\n"
          ]
        }
      ],
      "source": [
        "print(CRDC)"
      ]
    },
    {
      "cell_type": "markdown",
      "metadata": {
        "id": "GBUYkWWaJ4ue"
      },
      "source": [
        "### SkipGram"
      ]
    },
    {
      "cell_type": "code",
      "execution_count": 52,
      "metadata": {
        "id": "VyG1mpBQG5SZ"
      },
      "outputs": [],
      "source": [
        "modelo_skip_gram = KeyedVectors.load_word2vec_format('/content/drive/MyDrive/curso_word2vec/skip_s300.txt')"
      ]
    },
    {
      "cell_type": "code",
      "execution_count": 61,
      "metadata": {
        "id": "iTIlo9AIKa8H"
      },
      "outputs": [],
      "source": [
        "def combinacao_de_vetores_por_soma_melhorada_skipgram(palavras_numeros):\n",
        "  vetor_resultante = np.zeros(300)\n",
        "  for pn in palavras_numeros:\n",
        "    try:\n",
        "      vetor_resultante += modelo_skip_gram.get_vector(pn)\n",
        "    except KeyError:\n",
        "      # Trata o s valores numericos\n",
        "      if pn.isnumeric():\n",
        "        pn = \"0\" * len(pn)\n",
        "        vetor_resultante += modelo_skip_gram.get_vector(pn)\n",
        "      # Palavras e não encontradas\n",
        "      else:\n",
        "        vetor_resultante += modelo_skip_gram.get_vector('unknown')\n",
        "\n",
        "  return vetor_resultante\n",
        "\n",
        "def matriz_vetores_skipgram(textos):\n",
        "  x = len(textos)\n",
        "  y = 300\n",
        "\n",
        "  matriz = np.zeros((x,y))\n",
        "\n",
        "  for i in range(x):\n",
        "    palavras_numeros = tokenizador(textos.iloc[i])\n",
        "    matriz[i] = combinacao_de_vetores_por_soma_melhorada_skipgram(palavras_numeros)\n",
        "\n",
        "  return matriz"
      ]
    },
    {
      "cell_type": "code",
      "execution_count": 62,
      "metadata": {
        "colab": {
          "base_uri": "https://localhost:8080/"
        },
        "id": "Nnk1RbqTMmFx",
        "outputId": "69382677-6ad7-4578-b627-b548e9388667"
      },
      "outputs": [
        {
          "name": "stdout",
          "output_type": "stream",
          "text": [
            "(90000, 300)\n",
            "(20513, 300)\n"
          ]
        }
      ],
      "source": [
        "matriz_vetores_treino_skipgram = matriz_vetores_skipgram(artigo_treino.title)\n",
        "matriz_vetores_teste_skipgram = matriz_vetores_skipgram(artigo_teste.title)\n",
        "\n",
        "print(matriz_vetores_treino_skipgram.shape)\n",
        "print(matriz_vetores_teste_skipgram.shape)"
      ]
    },
    {
      "cell_type": "code",
      "execution_count": 65,
      "metadata": {
        "colab": {
          "base_uri": "https://localhost:8080/"
        },
        "id": "Hanb4B1RNXFa",
        "outputId": "02225580-5b8e-4388-f3fc-8bef7280036d"
      },
      "outputs": [
        {
          "data": {
            "text/plain": [
              "LogisticRegression(max_iter=1000)"
            ]
          },
          "execution_count": 65,
          "metadata": {},
          "output_type": "execute_result"
        }
      ],
      "source": [
        "LRSG = LogisticRegression(max_iter=1000)\n",
        "\n",
        "LRSG.fit(matriz_vetores_treino_skipgram, artigo_treino.category)"
      ]
    },
    {
      "cell_type": "code",
      "execution_count": 66,
      "metadata": {
        "colab": {
          "base_uri": "https://localhost:8080/"
        },
        "id": "1G_gxH6DOLct",
        "outputId": "5e9599fd-f521-450f-aff4-6abed6bd4678"
      },
      "outputs": [
        {
          "data": {
            "text/plain": [
              "0.806805440452396"
            ]
          },
          "execution_count": 66,
          "metadata": {},
          "output_type": "execute_result"
        }
      ],
      "source": [
        "LRSG.score(matriz_vetores_teste_skipgram, artigo_teste.category)"
      ]
    },
    {
      "cell_type": "code",
      "execution_count": 67,
      "metadata": {
        "id": "UjqwM0w8OdrL"
      },
      "outputs": [],
      "source": [
        "predicoes_skipgram = LRSG.predict(matriz_vetores_teste_skipgram)"
      ]
    },
    {
      "cell_type": "code",
      "execution_count": 68,
      "metadata": {
        "id": "Xxw3baPBOVoI"
      },
      "outputs": [],
      "source": [
        "CRSG = classification_report(artigo_teste.category, predicoes_skipgram)"
      ]
    },
    {
      "cell_type": "code",
      "execution_count": 69,
      "metadata": {
        "colab": {
          "base_uri": "https://localhost:8080/"
        },
        "id": "eBGW22PqPHMs",
        "outputId": "c9d3183c-d6c6-46ab-a5ed-4ee6633dd1eb"
      },
      "outputs": [
        {
          "name": "stdout",
          "output_type": "stream",
          "text": [
            "              precision    recall  f1-score   support\n",
            "\n",
            "     colunas       0.86      0.72      0.78      6103\n",
            "   cotidiano       0.63      0.81      0.70      1698\n",
            "     esporte       0.93      0.89      0.91      4663\n",
            "   ilustrada       0.15      0.91      0.26       131\n",
            "     mercado       0.84      0.81      0.83      5867\n",
            "       mundo       0.76      0.86      0.80      2051\n",
            "\n",
            "    accuracy                           0.81     20513\n",
            "   macro avg       0.69      0.83      0.71     20513\n",
            "weighted avg       0.84      0.81      0.82     20513\n",
            "\n"
          ]
        }
      ],
      "source": [
        "print(CRSG)"
      ]
    }
  ],
  "metadata": {
    "colab": {
      "provenance": []
    },
    "kernelspec": {
      "display_name": "Python 3",
      "name": "python3"
    },
    "language_info": {
      "name": "python"
    }
  },
  "nbformat": 4,
  "nbformat_minor": 0
}
