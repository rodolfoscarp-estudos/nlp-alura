{
  "nbformat": 4,
  "nbformat_minor": 0,
  "metadata": {
    "colab": {
      "provenance": []
    },
    "kernelspec": {
      "name": "python3",
      "display_name": "Python 3"
    },
    "language_info": {
      "name": "python"
    }
  },
  "cells": [
    {
      "cell_type": "code",
      "execution_count": 2,
      "metadata": {
        "id": "_X3JR1dfSLJa"
      },
      "outputs": [],
      "source": [
        "# !pip install spacy\n",
        "# !pip install gensim\n",
        "# !python -m spacy download pt_core_news_sm"
      ]
    },
    {
      "cell_type": "code",
      "source": [
        "import numpy as np\n",
        "from spacy import load\n",
        "from gensim.models import KeyedVectors\n",
        "import pandas as pd\n",
        "from sklearn.linear_model import LogisticRegression\n",
        "from sklearn.metrics import classification_report"
      ],
      "metadata": {
        "colab": {
          "base_uri": "https://localhost:8080/"
        },
        "id": "_DE0r4NJtqlB",
        "outputId": "a78e02c6-4320-48a9-ace7-17eaac8abdb7"
      },
      "execution_count": 3,
      "outputs": [
        {
          "output_type": "stream",
          "name": "stderr",
          "text": [
            "/usr/local/lib/python3.8/dist-packages/torch/cuda/__init__.py:497: UserWarning: Can't initialize NVML\n",
            "  warnings.warn(\"Can't initialize NVML\")\n"
          ]
        }
      ]
    },
    {
      "cell_type": "code",
      "source": [
        "w2v_modelo_cbow = KeyedVectors.load_word2vec_format('/content/drive/MyDrive/curso_word2vec_treinamento/modelo_cbow.txt')\n",
        "w2v_modelo_sg = KeyedVectors.load_word2vec_format('/content/drive/MyDrive/curso_word2vec_treinamento/modelo_sg.txt')"
      ],
      "metadata": {
        "id": "67tU4Wn51uBZ"
      },
      "execution_count": 4,
      "outputs": []
    },
    {
      "cell_type": "code",
      "source": [
        "dados_treino = pd.read_csv('/content/drive/MyDrive/curso_word2vec_treinamento/treino.csv')\n",
        "dados_teste = pd.read_csv('/content/drive/MyDrive/curso_word2vec_treinamento/teste.csv')"
      ],
      "metadata": {
        "id": "1zuWsJb61zCq"
      },
      "execution_count": 5,
      "outputs": []
    },
    {
      "cell_type": "code",
      "source": [
        "#  disable disabilita os passos da pipeline\n",
        "nlp = load('pt_core_news_sm', disable=['paser','near','tagger','textcat'])\n",
        "\n",
        "def tokenizador(texto):\n",
        "  # Remove não alphanumericos \n",
        "  # Remove stop-words\n",
        "  # Transforma em minuscula\n",
        "\n",
        "  doc = nlp(texto)\n",
        "  tokens_validos = []\n",
        "\n",
        "  for token in doc:\n",
        "    e_valido = not token.is_stop and token.is_alpha\n",
        "    if e_valido:\n",
        "      tokens_validos.append(token.text.lower())\n",
        "\n",
        "  return tokens_validos\n",
        "\n",
        "tokens = tokenizador(\"python / é um 445.255  boa ** linguagem de programacao\")\n",
        "print(tokens)"
      ],
      "metadata": {
        "colab": {
          "base_uri": "https://localhost:8080/"
        },
        "id": "L78xwudFT37w",
        "outputId": "070f4735-5079-46c3-9f15-f4ec7f248790"
      },
      "execution_count": 6,
      "outputs": [
        {
          "output_type": "stream",
          "name": "stdout",
          "text": [
            "['python', 'linguagem', 'programacao']\n"
          ]
        }
      ]
    },
    {
      "cell_type": "code",
      "source": [
        "# Faz a soma vetorial de de todas os token da frase\n",
        "def combinacao_de_vetores_por_soma(palavras, modelo):\n",
        "\n",
        "  vetor_resultante = np.zeros(300)\n",
        "\n",
        "  for pn in palavras:\n",
        "    try:\n",
        "      vetor_resultante += modelo.get_vector(pn)\n",
        "    except KeyError:\n",
        "      pass\n",
        "\n",
        "  return vetor_resultante\n",
        "\n",
        "vetor_texto = combinacao_de_vetores_por_soma(tokens, w2v_modelo_cbow)\n",
        "print(len(vetor_texto))"
      ],
      "metadata": {
        "colab": {
          "base_uri": "https://localhost:8080/"
        },
        "id": "jdMRg5vATozf",
        "outputId": "10dd7788-4280-4758-86ed-94819116b33d"
      },
      "execution_count": 7,
      "outputs": [
        {
          "output_type": "stream",
          "name": "stdout",
          "text": [
            "300\n"
          ]
        }
      ]
    },
    {
      "cell_type": "code",
      "source": [
        "def matriz_vetores(textos, modelo):\n",
        "  x = len(textos)\n",
        "  y = 300\n",
        "\n",
        "  matriz = np.zeros((x,y))\n",
        "\n",
        "  for i in range(x):\n",
        "    palavras = tokenizador(textos.iloc[i])\n",
        "    matriz[i] = combinacao_de_vetores_por_soma(palavras, modelo)\n",
        "\n",
        "  return matriz"
      ],
      "metadata": {
        "id": "4NH1LQlpThAi"
      },
      "execution_count": 8,
      "outputs": []
    },
    {
      "cell_type": "markdown",
      "source": [
        "### Utilizando CBOW"
      ],
      "metadata": {
        "id": "ceTKLHQETT3w"
      }
    },
    {
      "cell_type": "code",
      "source": [
        "matriz_vetores_treino_cbow = matriz_vetores(dados_treino.title, w2v_modelo_cbow)\n",
        "matriz_vetores_teste_cbow = matriz_vetores(dados_teste.title, w2v_modelo_cbow)\n",
        "\n",
        "print(matriz_vetores_treino_cbow.shape)\n",
        "print(matriz_vetores_teste_cbow.shape)"
      ],
      "metadata": {
        "colab": {
          "base_uri": "https://localhost:8080/"
        },
        "id": "ErIn7ktt2j87",
        "outputId": "26a5085f-5cdf-4986-d3cc-393c17ab8fce"
      },
      "execution_count": 9,
      "outputs": [
        {
          "output_type": "stream",
          "name": "stdout",
          "text": [
            "(90000, 300)\n",
            "(20513, 300)\n"
          ]
        }
      ]
    },
    {
      "cell_type": "code",
      "source": [
        "def classificador(x_treino, y_treino, x_teste, y_teste):\n",
        "  RL = LogisticRegression(max_iter=800)\n",
        "  RL.fit(x_treino, y_treino)\n",
        "\n",
        "  predicoes = RL.predict(x_teste)\n",
        "\n",
        "  print(classification_report(y_teste, predicoes))\n",
        "\n",
        "  return RL\n",
        "\n",
        "RL_cbow = classificador(\n",
        "    matriz_vetores_treino_cbow, \n",
        "    dados_treino.category,\n",
        "    matriz_vetores_teste_cbow,\n",
        "    dados_teste.category\n",
        ")"
      ],
      "metadata": {
        "colab": {
          "base_uri": "https://localhost:8080/"
        },
        "id": "xVoyCqacKfgz",
        "outputId": "529800bb-b379-44a5-d0df-a18daf38a7da"
      },
      "execution_count": 10,
      "outputs": [
        {
          "output_type": "stream",
          "name": "stdout",
          "text": [
            "              precision    recall  f1-score   support\n",
            "\n",
            "     colunas       0.80      0.71      0.75      6103\n",
            "   cotidiano       0.64      0.80      0.71      1698\n",
            "     esporte       0.93      0.87      0.89      4663\n",
            "   ilustrada       0.13      0.83      0.22       131\n",
            "     mercado       0.83      0.78      0.81      5867\n",
            "       mundo       0.75      0.83      0.79      2051\n",
            "\n",
            "    accuracy                           0.79     20513\n",
            "   macro avg       0.68      0.80      0.70     20513\n",
            "weighted avg       0.82      0.79      0.80     20513\n",
            "\n"
          ]
        }
      ]
    },
    {
      "cell_type": "markdown",
      "source": [
        "### Utilizando SG"
      ],
      "metadata": {
        "id": "UdAUrebZTcba"
      }
    },
    {
      "cell_type": "code",
      "source": [
        "matriz_vetores_treino_sg = matriz_vetores(dados_treino.title, w2v_modelo_sg)\n",
        "matriz_vetores_teste_sg = matriz_vetores(dados_teste.title, w2v_modelo_sg)\n",
        "\n",
        "print(matriz_vetores_treino_sg.shape)\n",
        "print(matriz_vetores_teste_sg.shape)"
      ],
      "metadata": {
        "colab": {
          "base_uri": "https://localhost:8080/"
        },
        "id": "iU4EXJtdTbCm",
        "outputId": "fa433e6d-26ae-4b59-96b9-f18c176882e8"
      },
      "execution_count": 12,
      "outputs": [
        {
          "output_type": "stream",
          "name": "stdout",
          "text": [
            "(90000, 300)\n",
            "(20513, 300)\n"
          ]
        }
      ]
    },
    {
      "cell_type": "code",
      "source": [
        "RL_sg = classificador(\n",
        "    matriz_vetores_treino_sg, \n",
        "    dados_treino.category,\n",
        "    matriz_vetores_teste_sg,\n",
        "    dados_teste.category\n",
        ")"
      ],
      "metadata": {
        "colab": {
          "base_uri": "https://localhost:8080/"
        },
        "id": "YzeXqy4YUuwe",
        "outputId": "bf6c52fc-a3a3-4304-9ae2-1317b1e4822a"
      },
      "execution_count": 15,
      "outputs": [
        {
          "output_type": "stream",
          "name": "stdout",
          "text": [
            "              precision    recall  f1-score   support\n",
            "\n",
            "     colunas       0.81      0.71      0.76      6103\n",
            "   cotidiano       0.64      0.80      0.71      1698\n",
            "     esporte       0.94      0.87      0.90      4663\n",
            "   ilustrada       0.14      0.89      0.24       131\n",
            "     mercado       0.84      0.79      0.82      5867\n",
            "       mundo       0.75      0.84      0.79      2051\n",
            "\n",
            "    accuracy                           0.79     20513\n",
            "   macro avg       0.69      0.82      0.70     20513\n",
            "weighted avg       0.82      0.79      0.80     20513\n",
            "\n"
          ]
        }
      ]
    },
    {
      "cell_type": "markdown",
      "source": [
        "### Dsiponibilizando o modelo"
      ],
      "metadata": {
        "id": "1Q2-EXewVjHM"
      }
    },
    {
      "cell_type": "code",
      "source": [
        "import pickle\n",
        "\n",
        "with open('modelo_cbow.pkl', 'wb') as model_file:\n",
        "  pickle.dump(RL_cbow, model_file)\n",
        "\n",
        "with open('modelo_sg.pkl', 'wb') as model_file:\n",
        "  pickle.dump(RL_sg, model_file)"
      ],
      "metadata": {
        "id": "KqiBMFBZVh93"
      },
      "execution_count": 16,
      "outputs": []
    },
    {
      "cell_type": "markdown",
      "source": [
        "### Utilizando o modelo"
      ],
      "metadata": {
        "id": "d4QlzV0vYYrh"
      }
    },
    {
      "cell_type": "code",
      "source": [
        "frase_1 = \"Flamengo é um time de futebol\"\n",
        "\n",
        "tokens_frase_1 = tokenizador(frase_1)\n",
        "vetor_frase_1 = combinacao_de_vetores_por_soma(tokens_frase_1, w2v_modelo_cbow)\n",
        "\n",
        "RL_cbow.predict([vetor_frase_1])"
      ],
      "metadata": {
        "colab": {
          "base_uri": "https://localhost:8080/"
        },
        "id": "fDd1KTo2YWj0",
        "outputId": "d12a40b9-d953-474b-d4db-cdd1775a8074"
      },
      "execution_count": 28,
      "outputs": [
        {
          "output_type": "execute_result",
          "data": {
            "text/plain": [
              "array(['esporte'], dtype=object)"
            ]
          },
          "metadata": {},
          "execution_count": 28
        }
      ]
    }
  ]
}