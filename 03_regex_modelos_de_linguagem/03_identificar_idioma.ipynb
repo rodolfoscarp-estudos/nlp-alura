{
 "cells": [
  {
   "cell_type": "code",
   "execution_count": 44,
   "metadata": {},
   "outputs": [],
   "source": [
    "from sklearn.model_selection import train_test_split\n",
    "from nltk.tokenize import WhitespaceTokenizer\n",
    "from nltk.lm.preprocessing import padded_everygram_pipeline\n",
    "\n",
    "import pandas as pd\n",
    "import re"
   ]
  },
  {
   "cell_type": "code",
   "execution_count": 45,
   "metadata": {},
   "outputs": [],
   "source": [
    "dados_portugues = pd.read_csv('dados/stackoverflow_portugues_tratados.csv', sep=',')\n",
    "dados_ingles = pd.read_csv('dados/stackoverflow_ingles_tratados.csv', sep=',')\n",
    "dados_espanhol = pd.read_csv('dados/stackoverflow_espanhol_tratados.csv', sep=',')"
   ]
  },
  {
   "attachments": {},
   "cell_type": "markdown",
   "metadata": {},
   "source": [
    "### Fake Char"
   ]
  },
  {
   "cell_type": "code",
   "execution_count": 46,
   "metadata": {},
   "outputs": [
    {
     "name": "stdout",
     "output_type": "stream",
     "text": [
      "[('<s>', 'r'), ('r', 'o'), ('o', 'd'), ('d', 'o'), ('o', 'l'), ('l', 'f'), ('f', 'o'), ('o', '</s>')]\n"
     ]
    }
   ],
   "source": [
    "from nltk.lm.preprocessing import pad_both_ends\n",
    "from nltk.util import bigrams\n",
    "\n",
    "test = bigrams('rodolfo')\n",
    "\n",
    "print(list(bigrams(pad_both_ends('rodolfo', n=2))))"
   ]
  },
  {
   "attachments": {},
   "cell_type": "markdown",
   "metadata": {},
   "source": [
    "### Modelo de Linguagem"
   ]
  },
  {
   "cell_type": "code",
   "execution_count": 47,
   "metadata": {},
   "outputs": [],
   "source": [
    "dados_portugues['idioma'] = 'port'\n",
    "dados_ingles['idioma'] = 'ing'\n",
    "dados_espanhol['idioma'] = 'esp'"
   ]
  },
  {
   "cell_type": "code",
   "execution_count": 48,
   "metadata": {},
   "outputs": [
    {
     "data": {
      "text/html": [
       "<div>\n",
       "<style scoped>\n",
       "    .dataframe tbody tr th:only-of-type {\n",
       "        vertical-align: middle;\n",
       "    }\n",
       "\n",
       "    .dataframe tbody tr th {\n",
       "        vertical-align: top;\n",
       "    }\n",
       "\n",
       "    .dataframe thead th {\n",
       "        text-align: right;\n",
       "    }\n",
       "</style>\n",
       "<table border=\"1\" class=\"dataframe\">\n",
       "  <thead>\n",
       "    <tr style=\"text-align: right;\">\n",
       "      <th></th>\n",
       "      <th>Id</th>\n",
       "      <th>Título</th>\n",
       "      <th>Questão</th>\n",
       "      <th>Tags</th>\n",
       "      <th>Pontuação</th>\n",
       "      <th>Visualizações</th>\n",
       "      <th>questoes_tratadas</th>\n",
       "      <th>idioma</th>\n",
       "    </tr>\n",
       "  </thead>\n",
       "  <tbody>\n",
       "    <tr>\n",
       "      <th>0</th>\n",
       "      <td>2402</td>\n",
       "      <td>Como fazer hash de senhas de forma segura?</td>\n",
       "      <td>&lt;p&gt;Se eu fizer o &lt;em&gt;&lt;a href=\"http://pt.wikipe...</td>\n",
       "      <td>&lt;hash&gt;&lt;segurança&gt;&lt;senhas&gt;&lt;criptografia&gt;</td>\n",
       "      <td>350</td>\n",
       "      <td>22367</td>\n",
       "      <td>se eu fizer o hash de senhas antes de armazená...</td>\n",
       "      <td>port</td>\n",
       "    </tr>\n",
       "    <tr>\n",
       "      <th>1</th>\n",
       "      <td>6441</td>\n",
       "      <td>Qual é a diferença entre INNER JOIN e OUTER JOIN?</td>\n",
       "      <td>&lt;p&gt;Qual é a diferença entre &lt;code&gt;INNER JOIN&lt;/...</td>\n",
       "      <td>&lt;sql&gt;&lt;join&gt;</td>\n",
       "      <td>276</td>\n",
       "      <td>176953</td>\n",
       "      <td>qual é a diferença entre inner join e outer jo...</td>\n",
       "      <td>port</td>\n",
       "    </tr>\n",
       "    <tr>\n",
       "      <th>2</th>\n",
       "      <td>579</td>\n",
       "      <td>Por que não devemos usar funções do tipo mysql_*?</td>\n",
       "      <td>&lt;p&gt;Uma dúvida muito comum é por que devemos pa...</td>\n",
       "      <td>&lt;php&gt;&lt;mysql&gt;</td>\n",
       "      <td>226</td>\n",
       "      <td>9761</td>\n",
       "      <td>uma dúvida muito comum é por que devemos parar...</td>\n",
       "      <td>port</td>\n",
       "    </tr>\n",
       "    <tr>\n",
       "      <th>3</th>\n",
       "      <td>2539</td>\n",
       "      <td>As mensagens de erro devem se desculpar?</td>\n",
       "      <td>&lt;p&gt;É comum encontrar uma mensagem de erro que ...</td>\n",
       "      <td>&lt;aplicação-web&gt;&lt;gui&gt;&lt;console&gt;&lt;ux&gt;</td>\n",
       "      <td>214</td>\n",
       "      <td>5075</td>\n",
       "      <td>é comum encontrar uma mensagem de erro que diz...</td>\n",
       "      <td>port</td>\n",
       "    </tr>\n",
       "    <tr>\n",
       "      <th>4</th>\n",
       "      <td>17501</td>\n",
       "      <td>Qual é a diferença de API, biblioteca e Framew...</td>\n",
       "      <td>&lt;p&gt;Me parecem termos muito próximos e eventual...</td>\n",
       "      <td>&lt;api&gt;&lt;framework&gt;&lt;terminologia&gt;&lt;biblioteca&gt;</td>\n",
       "      <td>193</td>\n",
       "      <td>54191</td>\n",
       "      <td>me parecem termos muito próximos e eventualmen...</td>\n",
       "      <td>port</td>\n",
       "    </tr>\n",
       "  </tbody>\n",
       "</table>\n",
       "</div>"
      ],
      "text/plain": [
       "      Id                                             Título  \\\n",
       "0   2402         Como fazer hash de senhas de forma segura?   \n",
       "1   6441  Qual é a diferença entre INNER JOIN e OUTER JOIN?   \n",
       "2    579  Por que não devemos usar funções do tipo mysql_*?   \n",
       "3   2539           As mensagens de erro devem se desculpar?   \n",
       "4  17501  Qual é a diferença de API, biblioteca e Framew...   \n",
       "\n",
       "                                             Questão  \\\n",
       "0  <p>Se eu fizer o <em><a href=\"http://pt.wikipe...   \n",
       "1  <p>Qual é a diferença entre <code>INNER JOIN</...   \n",
       "2  <p>Uma dúvida muito comum é por que devemos pa...   \n",
       "3  <p>É comum encontrar uma mensagem de erro que ...   \n",
       "4  <p>Me parecem termos muito próximos e eventual...   \n",
       "\n",
       "                                         Tags  Pontuação  Visualizações  \\\n",
       "0     <hash><segurança><senhas><criptografia>        350          22367   \n",
       "1                                 <sql><join>        276         176953   \n",
       "2                                <php><mysql>        226           9761   \n",
       "3           <aplicação-web><gui><console><ux>        214           5075   \n",
       "4  <api><framework><terminologia><biblioteca>        193          54191   \n",
       "\n",
       "                                   questoes_tratadas idioma  \n",
       "0  se eu fizer o hash de senhas antes de armazená...   port  \n",
       "1  qual é a diferença entre inner join e outer jo...   port  \n",
       "2  uma dúvida muito comum é por que devemos parar...   port  \n",
       "3  é comum encontrar uma mensagem de erro que diz...   port  \n",
       "4  me parecem termos muito próximos e eventualmen...   port  "
      ]
     },
     "execution_count": 48,
     "metadata": {},
     "output_type": "execute_result"
    }
   ],
   "source": [
    "dados_portugues.head()"
   ]
  },
  {
   "cell_type": "code",
   "execution_count": 49,
   "metadata": {},
   "outputs": [],
   "source": [
    "port_train, port_test = train_test_split(dados_portugues.questoes_tratadas, test_size=0.2, random_state=144)\n",
    "ing_train, ing_test = train_test_split(dados_ingles.questoes_tratadas, test_size=0.2, random_state=144)\n",
    "esp_train, esp_test = train_test_split(dados_espanhol.questoes_tratadas, test_size=0.2, random_state=144)"
   ]
  },
  {
   "attachments": {},
   "cell_type": "markdown",
   "metadata": {},
   "source": [
    "### Máxima verossimilhança"
   ]
  },
  {
   "cell_type": "code",
   "execution_count": 63,
   "metadata": {},
   "outputs": [],
   "source": [
    "from nltk.lm import MLE\n",
    "\n",
    "def treinar_modelo_mle(lista_textos):\n",
    "    todas_questoes = ' '.join(lista_textos)\n",
    "    todas_palavras = WhitespaceTokenizer().tokenize(todas_questoes)\n",
    "    bigramas, vocabulario = padded_everygram_pipeline(2, todas_palavras)\n",
    "    modelo = MLE(2)\n",
    "    modelo.fit(bigramas, vocabulario)\n",
    "    return modelo"
   ]
  },
  {
   "cell_type": "code",
   "execution_count": 79,
   "metadata": {},
   "outputs": [],
   "source": [
    "def calcular_perplexidade(modelo, textos):\n",
    "    \n",
    "    perplexidade_total = 0\n",
    "    \n",
    "    todas_palavras = WhitespaceTokenizer().tokenize(textos)\n",
    "    palavras_fakechar = [list(pad_both_ends(palavra,n=2)) for palavra in todas_palavras ]\n",
    "    palavras_bigramas = [list(bigrams(palavra)) for palavra in palavras_fakechar]\n",
    "        \n",
    "    for palavra in palavras_bigramas:\n",
    "        perplexidade = modelo.perplexity(palavra)\n",
    "        \n",
    "        perplexidade_total += perplexidade\n",
    "        \n",
    "    return perplexidade_total\n",
    "    "
   ]
  },
  {
   "cell_type": "code",
   "execution_count": 80,
   "metadata": {},
   "outputs": [],
   "source": [
    "modelo_port_mle = treinar_modelo_mle(port_train)\n",
    "modelo_ing_mle = treinar_modelo_mle(ing_train)\n",
    "modelo_esp_mle = treinar_modelo_mle(esp_train)"
   ]
  },
  {
   "cell_type": "code",
   "execution_count": 81,
   "metadata": {},
   "outputs": [
    {
     "data": {
      "text/plain": [
       "inf"
      ]
     },
     "execution_count": 81,
     "metadata": {},
     "output_type": "execute_result"
    }
   ],
   "source": [
    "calcular_perplexidade(modelo_esp_mle, port_test.iloc[3])"
   ]
  },
  {
   "cell_type": "markdown",
   "metadata": {},
   "source": [
    "### Modelo de Laplace"
   ]
  },
  {
   "cell_type": "code",
   "execution_count": 69,
   "metadata": {},
   "outputs": [],
   "source": [
    "from nltk.lm import Laplace\n",
    "\n",
    "def treinar_modelo_laplace(lista_textos):\n",
    "    todas_questoes = ' '.join(lista_textos)\n",
    "    todas_palavras = WhitespaceTokenizer().tokenize(todas_questoes)\n",
    "    bigramas, vocabulario = padded_everygram_pipeline(2, todas_palavras)\n",
    "    modelo = Laplace(2)\n",
    "    modelo.fit(bigramas, vocabulario)\n",
    "    return modelo"
   ]
  },
  {
   "cell_type": "code",
   "execution_count": 82,
   "metadata": {},
   "outputs": [],
   "source": [
    "modelo_port_laplace = treinar_modelo_laplace(port_train)\n",
    "modelo_ing_laplace = treinar_modelo_laplace(ing_train)\n",
    "modelo_esp_laplace = treinar_modelo_laplace(esp_train)"
   ]
  },
  {
   "cell_type": "code",
   "execution_count": 83,
   "metadata": {},
   "outputs": [
    {
     "data": {
      "text/plain": [
       "4490.550395727484"
      ]
     },
     "execution_count": 83,
     "metadata": {},
     "output_type": "execute_result"
    }
   ],
   "source": [
    "calcular_perplexidade(modelo_ing_laplace, port_test.iloc[3])"
   ]
  },
  {
   "cell_type": "code",
   "execution_count": 84,
   "metadata": {},
   "outputs": [
    {
     "data": {
      "text/plain": [
       "1596.496133694623"
      ]
     },
     "execution_count": 84,
     "metadata": {},
     "output_type": "execute_result"
    }
   ],
   "source": [
    "calcular_perplexidade(modelo_port_laplace, port_test.iloc[3])"
   ]
  },
  {
   "cell_type": "code",
   "execution_count": 85,
   "metadata": {},
   "outputs": [
    {
     "data": {
      "text/plain": [
       "2513.3123745498874"
      ]
     },
     "execution_count": 85,
     "metadata": {},
     "output_type": "execute_result"
    }
   ],
   "source": [
    "calcular_perplexidade(modelo_esp_laplace, port_test.iloc[3])"
   ]
  },
  {
   "attachments": {},
   "cell_type": "markdown",
   "metadata": {},
   "source": [
    "### Função Identificação do idioma"
   ]
  },
  {
   "cell_type": "code",
   "execution_count": 87,
   "metadata": {},
   "outputs": [],
   "source": [
    "def atribui_idioma(lista_textos):\n",
    "    \n",
    "    idioma = []\n",
    "    \n",
    "    for texto in lista_textos:\n",
    "        portugues = calcular_perplexidade(modelo_port_laplace, texto)\n",
    "        ingles = calcular_perplexidade(modelo_ing_laplace, texto)\n",
    "        espanhol = calcular_perplexidade(modelo_esp_laplace, texto)\n",
    "        \n",
    "        if ingles >= portugues <= espanhol:\n",
    "            idioma.append('portugues')\n",
    "        elif portugues > ingles < espanhol:\n",
    "            idioma.append('ingles')\n",
    "        else:\n",
    "            idioma.append('espanhol')\n",
    "        \n",
    "    return idioma"
   ]
  },
  {
   "cell_type": "code",
   "execution_count": 97,
   "metadata": {},
   "outputs": [
    {
     "data": {
      "text/plain": [
       "['portugues', 'ingles', 'portugues']"
      ]
     },
     "execution_count": 97,
     "metadata": {},
     "output_type": "execute_result"
    }
   ],
   "source": [
    "atribui_idioma(['nos somos programadores','we are programmers','somos programadores'])"
   ]
  },
  {
   "cell_type": "code",
   "execution_count": 96,
   "metadata": {},
   "outputs": [
    {
     "data": {
      "text/plain": [
       "['portugues', 'ingles', 'espanhol']"
      ]
     },
     "execution_count": 96,
     "metadata": {},
     "output_type": "execute_result"
    }
   ],
   "source": [
    "atribui_idioma(['Eu comi comida japonesa','I ate Japanese food','comí comida japonesa'])"
   ]
  },
  {
   "cell_type": "code",
   "execution_count": 106,
   "metadata": {},
   "outputs": [
    {
     "name": "stdout",
     "output_type": "stream",
     "text": [
      "Portugues:  0.97\n",
      "Inglês:  1.0\n",
      "Espanhol:  0.96\n"
     ]
    }
   ],
   "source": [
    "print('Portugues: ',atribui_idioma(port_test).count('portugues') / len(port_test))\n",
    "print('Inglês: ',atribui_idioma(ing_test).count('ingles') / len(ing_test))\n",
    "print('Espanhol: ', atribui_idioma(esp_test).count('espanhol') / len(esp_test))"
   ]
  }
 ],
 "metadata": {
  "kernelspec": {
   "display_name": "base",
   "language": "python",
   "name": "python3"
  },
  "language_info": {
   "codemirror_mode": {
    "name": "ipython",
    "version": 3
   },
   "file_extension": ".py",
   "mimetype": "text/x-python",
   "name": "python",
   "nbconvert_exporter": "python",
   "pygments_lexer": "ipython3",
   "version": "3.8.8"
  },
  "orig_nbformat": 4,
  "vscode": {
   "interpreter": {
    "hash": "0253cd5b48b73c677c6d1480364a46f02ffe09c8dda2c93d4be4b1a97e6cee92"
   }
  }
 },
 "nbformat": 4,
 "nbformat_minor": 2
}
