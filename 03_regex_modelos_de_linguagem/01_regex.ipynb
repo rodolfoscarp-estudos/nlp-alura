{
 "cells": [
  {
   "attachments": {},
   "cell_type": "markdown",
   "metadata": {},
   "source": [
    "### Metacaracteres\n",
    "\n",
    "`. ? * + ^ $ | [ ] { } ( ) \\`\n",
    "\n",
    "- **\\\\** - Faz com que o proximo caracter não seja um metacaracter\n",
    "- **\\.** - Corresponde a qualquer caracter \n",
    "- **?** - Elemento aparace _0_ a _1_ vez\n",
    "- **\\*** - Repetição de _0_ a _n_ vezes\n",
    "- **\\+** - Repetição de _1_ a _n_ vezes\n",
    "- **^** - String inicia com aquele elemento\n",
    "- **$** - String Termina com aquele elemento\n",
    "- **\\|** - Faz o papel de _ou_\n",
    "- **[...]** - Lista de caracteres permitidos\n",
    "- **[a-z]** - Intervalo de _a_ a _z_\n",
    "- **{...}** - Repetição _n_ a _m_\n",
    "- **(...)** - Delimita um grupo\n"
   ]
  },
  {
   "cell_type": "code",
   "execution_count": 2,
   "metadata": {},
   "outputs": [],
   "source": [
    "import re"
   ]
  },
  {
   "cell_type": "code",
   "execution_count": 13,
   "metadata": {},
   "outputs": [],
   "source": [
    "texto = \"\"\"\n",
    "<p>É apropriado um \"\"pedido de desculpas\"\" neste caso?</p>\n",
    "<p>É um caso claro que o problema não é culpa do sistema/plataforma/provedor do serviço. Então por que deveria existir esse pedido de desculpas? Isso é importante?</p>\n",
    "<p>Tem alguma fonte de informação autoritativa que justifique o seu uso?</p>\n",
    "<p>Note que não estou perguntando se você usa de um jeito ou de outro, e o que você acha que é certo. <strong>Respostas com opiniões sem base são inválidas e devem ser votadas negativamente</strong>. Informações que indiquem com clareza e justificativa de qual o motivo do uso, ou não, são construtivas.</p>\n",
    "\"\"\""
   ]
  },
  {
   "cell_type": "code",
   "execution_count": 14,
   "metadata": {},
   "outputs": [
    {
     "name": "stdout",
     "output_type": "stream",
     "text": [
      "['<p>', '</p>', '<p>', '</p>', '<p>', '</p>', '<p>', '<strong>', '</strong>', '</p>']\n"
     ]
    }
   ],
   "source": [
    "# Retorna todos os padrões encontrados\n",
    "todas_tags = re.findall(r'<.*?>',texto)\n",
    "\n",
    "print(todas_tags)"
   ]
  },
  {
   "cell_type": "code",
   "execution_count": 17,
   "metadata": {},
   "outputs": [
    {
     "name": "stdout",
     "output_type": "stream",
     "text": [
      "\n",
      " - teste - É apropriado um \"\"pedido de desculpas\"\" neste caso? - teste - \n",
      " - teste - É um caso claro que o problema não é culpa do sistema/plataforma/provedor do serviço. Então por que deveria existir esse pedido de desculpas? Isso é importante? - teste - \n",
      " - teste - Tem alguma fonte de informação autoritativa que justifique o seu uso? - teste - \n",
      " - teste - Note que não estou perguntando se você usa de um jeito ou de outro, e o que você acha que é certo.  - teste - Respostas com opiniões sem base são inválidas e devem ser votadas negativamente - teste - . Informações que indiquem com clareza e justificativa de qual o motivo do uso, ou não, são construtivas. - teste - \n",
      "\n"
     ]
    }
   ],
   "source": [
    "# Subtitui os valor de um expressão regular\n",
    "texto_sub = re.sub(r'<.*?>', \" - teste - \", texto)\n",
    "\n",
    "print(texto_sub)"
   ]
  },
  {
   "cell_type": "code",
   "execution_count": 21,
   "metadata": {},
   "outputs": [
    {
     "data": {
      "text/plain": [
       "<re.Match object; span=(14, 16), match='70'>"
      ]
     },
     "execution_count": 21,
     "metadata": {},
     "output_type": "execute_result"
    }
   ],
   "source": [
    "# Compila um expressão regular\n",
    "\n",
    "regex = re.compile(r'70')\n",
    "\n",
    "regex.search(\"1515154444778070\")"
   ]
  }
 ],
 "metadata": {
  "kernelspec": {
   "display_name": "base",
   "language": "python",
   "name": "python3"
  },
  "language_info": {
   "codemirror_mode": {
    "name": "ipython",
    "version": 3
   },
   "file_extension": ".py",
   "mimetype": "text/x-python",
   "name": "python",
   "nbconvert_exporter": "python",
   "pygments_lexer": "ipython3",
   "version": "3.8.8 (default, Apr 13 2021, 19:58:26) \n[GCC 7.3.0]"
  },
  "orig_nbformat": 4,
  "vscode": {
   "interpreter": {
    "hash": "0253cd5b48b73c677c6d1480364a46f02ffe09c8dda2c93d4be4b1a97e6cee92"
   }
  }
 },
 "nbformat": 4,
 "nbformat_minor": 2
}
